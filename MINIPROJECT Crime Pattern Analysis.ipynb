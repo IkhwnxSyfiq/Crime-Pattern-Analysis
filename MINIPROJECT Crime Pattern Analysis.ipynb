{
  "nbformat": 4,
  "nbformat_minor": 0,
  "metadata": {
    "colab": {
      "provenance": []
    },
    "kernelspec": {
      "name": "python3",
      "display_name": "Python 3"
    },
    "language_info": {
      "name": "python"
    }
  },
  "cells": [
    {
      "cell_type": "code",
      "source": [
        "#IMPORT LIBRARIES\n",
        "#Computation and Structuring:\n",
        "import matplotlib.pyplot as plt\n",
        "import pandas as pd\n",
        "from sklearn.model_selection import train_test_split\n",
        "from sklearn.preprocessing import OneHotEncoder\n",
        "import warnings\n",
        "\n",
        "#Modeling:\n",
        "from sklearn.ensemble import RandomForestClassifier\n",
        "from sklearn.ensemble import GradientBoostingClassifier\n",
        "from sklearn.exceptions import UndefinedMetricWarning\n",
        "\n",
        "#Testing:\n",
        "from sklearn.metrics import confusion_matrix, classification_report, accuracy_score\n"
      ],
      "metadata": {
        "id": "vLzyOHvT_YmP"
      },
      "execution_count": null,
      "outputs": []
    },
    {
      "cell_type": "code",
      "source": [
        "#upload data file to collab\n",
        "from google.colab import files\n",
        "uploaded = files.upload()\n",
        "\n",
        "#import full data set\n",
        "import io\n",
        "df = pd.read_csv('MCI_2014_to_2017.csv',sep=',')"
      ],
      "metadata": {
        "colab": {
          "base_uri": "https://localhost:8080/",
          "height": 73
        },
        "id": "qiTpmNaC_Z8o",
        "outputId": "0f6e93ca-4ad3-4ff8-fa60-ca0a860b71a9"
      },
      "execution_count": null,
      "outputs": [
        {
          "output_type": "display_data",
          "data": {
            "text/plain": [
              "<IPython.core.display.HTML object>"
            ],
            "text/html": [
              "\n",
              "     <input type=\"file\" id=\"files-8f050ca1-e655-4379-8467-924ff4e923be\" name=\"files[]\" multiple disabled\n",
              "        style=\"border:none\" />\n",
              "     <output id=\"result-8f050ca1-e655-4379-8467-924ff4e923be\">\n",
              "      Upload widget is only available when the cell has been executed in the\n",
              "      current browser session. Please rerun this cell to enable.\n",
              "      </output>\n",
              "      <script>// Copyright 2017 Google LLC\n",
              "//\n",
              "// Licensed under the Apache License, Version 2.0 (the \"License\");\n",
              "// you may not use this file except in compliance with the License.\n",
              "// You may obtain a copy of the License at\n",
              "//\n",
              "//      http://www.apache.org/licenses/LICENSE-2.0\n",
              "//\n",
              "// Unless required by applicable law or agreed to in writing, software\n",
              "// distributed under the License is distributed on an \"AS IS\" BASIS,\n",
              "// WITHOUT WARRANTIES OR CONDITIONS OF ANY KIND, either express or implied.\n",
              "// See the License for the specific language governing permissions and\n",
              "// limitations under the License.\n",
              "\n",
              "/**\n",
              " * @fileoverview Helpers for google.colab Python module.\n",
              " */\n",
              "(function(scope) {\n",
              "function span(text, styleAttributes = {}) {\n",
              "  const element = document.createElement('span');\n",
              "  element.textContent = text;\n",
              "  for (const key of Object.keys(styleAttributes)) {\n",
              "    element.style[key] = styleAttributes[key];\n",
              "  }\n",
              "  return element;\n",
              "}\n",
              "\n",
              "// Max number of bytes which will be uploaded at a time.\n",
              "const MAX_PAYLOAD_SIZE = 100 * 1024;\n",
              "\n",
              "function _uploadFiles(inputId, outputId) {\n",
              "  const steps = uploadFilesStep(inputId, outputId);\n",
              "  const outputElement = document.getElementById(outputId);\n",
              "  // Cache steps on the outputElement to make it available for the next call\n",
              "  // to uploadFilesContinue from Python.\n",
              "  outputElement.steps = steps;\n",
              "\n",
              "  return _uploadFilesContinue(outputId);\n",
              "}\n",
              "\n",
              "// This is roughly an async generator (not supported in the browser yet),\n",
              "// where there are multiple asynchronous steps and the Python side is going\n",
              "// to poll for completion of each step.\n",
              "// This uses a Promise to block the python side on completion of each step,\n",
              "// then passes the result of the previous step as the input to the next step.\n",
              "function _uploadFilesContinue(outputId) {\n",
              "  const outputElement = document.getElementById(outputId);\n",
              "  const steps = outputElement.steps;\n",
              "\n",
              "  const next = steps.next(outputElement.lastPromiseValue);\n",
              "  return Promise.resolve(next.value.promise).then((value) => {\n",
              "    // Cache the last promise value to make it available to the next\n",
              "    // step of the generator.\n",
              "    outputElement.lastPromiseValue = value;\n",
              "    return next.value.response;\n",
              "  });\n",
              "}\n",
              "\n",
              "/**\n",
              " * Generator function which is called between each async step of the upload\n",
              " * process.\n",
              " * @param {string} inputId Element ID of the input file picker element.\n",
              " * @param {string} outputId Element ID of the output display.\n",
              " * @return {!Iterable<!Object>} Iterable of next steps.\n",
              " */\n",
              "function* uploadFilesStep(inputId, outputId) {\n",
              "  const inputElement = document.getElementById(inputId);\n",
              "  inputElement.disabled = false;\n",
              "\n",
              "  const outputElement = document.getElementById(outputId);\n",
              "  outputElement.innerHTML = '';\n",
              "\n",
              "  const pickedPromise = new Promise((resolve) => {\n",
              "    inputElement.addEventListener('change', (e) => {\n",
              "      resolve(e.target.files);\n",
              "    });\n",
              "  });\n",
              "\n",
              "  const cancel = document.createElement('button');\n",
              "  inputElement.parentElement.appendChild(cancel);\n",
              "  cancel.textContent = 'Cancel upload';\n",
              "  const cancelPromise = new Promise((resolve) => {\n",
              "    cancel.onclick = () => {\n",
              "      resolve(null);\n",
              "    };\n",
              "  });\n",
              "\n",
              "  // Wait for the user to pick the files.\n",
              "  const files = yield {\n",
              "    promise: Promise.race([pickedPromise, cancelPromise]),\n",
              "    response: {\n",
              "      action: 'starting',\n",
              "    }\n",
              "  };\n",
              "\n",
              "  cancel.remove();\n",
              "\n",
              "  // Disable the input element since further picks are not allowed.\n",
              "  inputElement.disabled = true;\n",
              "\n",
              "  if (!files) {\n",
              "    return {\n",
              "      response: {\n",
              "        action: 'complete',\n",
              "      }\n",
              "    };\n",
              "  }\n",
              "\n",
              "  for (const file of files) {\n",
              "    const li = document.createElement('li');\n",
              "    li.append(span(file.name, {fontWeight: 'bold'}));\n",
              "    li.append(span(\n",
              "        `(${file.type || 'n/a'}) - ${file.size} bytes, ` +\n",
              "        `last modified: ${\n",
              "            file.lastModifiedDate ? file.lastModifiedDate.toLocaleDateString() :\n",
              "                                    'n/a'} - `));\n",
              "    const percent = span('0% done');\n",
              "    li.appendChild(percent);\n",
              "\n",
              "    outputElement.appendChild(li);\n",
              "\n",
              "    const fileDataPromise = new Promise((resolve) => {\n",
              "      const reader = new FileReader();\n",
              "      reader.onload = (e) => {\n",
              "        resolve(e.target.result);\n",
              "      };\n",
              "      reader.readAsArrayBuffer(file);\n",
              "    });\n",
              "    // Wait for the data to be ready.\n",
              "    let fileData = yield {\n",
              "      promise: fileDataPromise,\n",
              "      response: {\n",
              "        action: 'continue',\n",
              "      }\n",
              "    };\n",
              "\n",
              "    // Use a chunked sending to avoid message size limits. See b/62115660.\n",
              "    let position = 0;\n",
              "    do {\n",
              "      const length = Math.min(fileData.byteLength - position, MAX_PAYLOAD_SIZE);\n",
              "      const chunk = new Uint8Array(fileData, position, length);\n",
              "      position += length;\n",
              "\n",
              "      const base64 = btoa(String.fromCharCode.apply(null, chunk));\n",
              "      yield {\n",
              "        response: {\n",
              "          action: 'append',\n",
              "          file: file.name,\n",
              "          data: base64,\n",
              "        },\n",
              "      };\n",
              "\n",
              "      let percentDone = fileData.byteLength === 0 ?\n",
              "          100 :\n",
              "          Math.round((position / fileData.byteLength) * 100);\n",
              "      percent.textContent = `${percentDone}% done`;\n",
              "\n",
              "    } while (position < fileData.byteLength);\n",
              "  }\n",
              "\n",
              "  // All done.\n",
              "  yield {\n",
              "    response: {\n",
              "      action: 'complete',\n",
              "    }\n",
              "  };\n",
              "}\n",
              "\n",
              "scope.google = scope.google || {};\n",
              "scope.google.colab = scope.google.colab || {};\n",
              "scope.google.colab._files = {\n",
              "  _uploadFiles,\n",
              "  _uploadFilesContinue,\n",
              "};\n",
              "})(self);\n",
              "</script> "
            ]
          },
          "metadata": {}
        },
        {
          "output_type": "stream",
          "name": "stdout",
          "text": [
            "Saving MCI_2014_to_2017.csv to MCI_2014_to_2017 (1).csv\n"
          ]
        }
      ]
    },
    {
      "cell_type": "code",
      "source": [
        "#list of relevant columns for model\n",
        "col_list = ['occurrenceyear', 'occurrencemonth','occurrenceday','occurrencedayofyear','occurrencedayofweek','occurrencehour','MCI', 'Division', 'Hood_ID']\n",
        "\n",
        "#dataframe created from list of relevant columns\n",
        "df2 = df[col_list]\n",
        "df = df[['occurrenceyear', 'MCI']]\n",
        "df2 = df2[df2['occurrenceyear'] > 2013] #drop \"stale\" crimes, where occurence is before 2014. Since data set is filtered based on reported date, we're ignoring these old crimes\n",
        "\n",
        "# Group by year and MCI\n",
        "grouped = df.groupby(['occurrenceyear', 'MCI']).size().reset_index(name='count')\n",
        "\n",
        "#Factorize dependent variable column:\n",
        "crime_var = pd.factorize(df2['MCI']) #codes the list of crimes to a int64 variable\n",
        "df2['MCI'] = crime_var[0]\n",
        "definition_list_MCI = crime_var[1] #create an index reference so we know which crimes are coded to which factors\n",
        "#factorize independent variables:\n",
        "\n",
        "#factorize occurenceyear:\n",
        "year_var = pd.factorize(df2['occurrenceyear'])\n",
        "df2['occurrenceyear'] = year_var[0]\n",
        "definition_list_year = year_var[1]\n",
        "\n",
        "#factorize occurencemonth:\n",
        "month_var = pd.factorize(df2['occurrencemonth'])\n",
        "df2['occurrencemonth'] = month_var[0]\n",
        "definition_list_month = month_var[1]\n",
        "\n",
        "#factorize occurenceday:\n",
        "day_var = pd.factorize(df2['occurrenceday'])\n",
        "df2['occurenceday'] = day_var[0]\n",
        "definition_list_day = day_var[1]\n",
        "\n",
        "#factorize occurencedayofweek:\n",
        "dayweek_var = pd.factorize(df2['occurrencedayofweek'])\n",
        "df2['occurrencedayofweek'] = dayweek_var[0]\n",
        "definition_list_day = dayweek_var[1]\n",
        "\n",
        "#factorize division:\n",
        "division_var = pd.factorize(df2['Division'])\n",
        "df2['Division'] = division_var[0]\n",
        "definition_list_division = division_var[1]\n",
        "\n",
        "#factorize HOOD_ID:\n",
        "hood_var = pd.factorize(df2['Hood_ID'])\n",
        "df2['Hood_ID'] = hood_var[0]\n",
        "definition_list_hood = hood_var[1]\n",
        "\n",
        "#factorize occurencehour:\n",
        "hour_var = pd.factorize(df2['occurrencehour'])\n",
        "df2['occurrencehour'] = hour_var[0]\n",
        "definition_list_hour = hour_var[1]\n",
        "\n",
        "#factorize occurencedayofyear:\n",
        "dayyear_var = pd.factorize(df2['occurrencedayofyear'])\n",
        "df2['occurrencedayofyear'] = dayyear_var[0]\n",
        "definition_list_dayyear = dayyear_var[1]"
      ],
      "metadata": {
        "id": "JzaXo_UC_kxu"
      },
      "execution_count": null,
      "outputs": []
    },
    {
      "cell_type": "code",
      "source": [
        "#set X and Y:\n",
        "X = df2.drop(['MCI'],axis=1).values #sets x and converts to an array\n",
        "print(X)\n",
        "y = df2['MCI'].values #sets y and converts to an array"
      ],
      "metadata": {
        "id": "Yd4TpLMH_mi_",
        "colab": {
          "base_uri": "https://localhost:8080/"
        },
        "outputId": "31d59847-917c-41be-b0bc-3b50efe0efdf"
      },
      "execution_count": null,
      "outputs": [
        {
          "output_type": "stream",
          "name": "stdout",
          "text": [
            "[[ 0.  0. 25. ...  0.  0.  0.]\n",
            " [ 0.  0. 25. ...  1.  1.  0.]\n",
            " [ 0.  0. 25. ...  2.  2.  0.]\n",
            " ...\n",
            " [ 0.  1. 22. ...  4. 87. 16.]\n",
            " [ 0.  1. 21. ...  5. 78. 24.]\n",
            " [ 0.  1. 22. ...  3. 39. 16.]]\n"
          ]
        }
      ]
    },
    {
      "cell_type": "code",
      "source": [
        "#split the data into train and test sets for numeric encoded dataset:\n",
        "X_train, X_test, y_train, y_test = train_test_split(X, y, test_size = 0.25, random_state = 21)\n",
        "\n",
        "# OneHotEncode all the X variables for input into the classification model:\n",
        "binary_encoder = OneHotEncoder(sparse_output=False)  # Explicitly set sparse_output to False\n",
        "encoded_X = binary_encoder.fit_transform(X)\n",
        "\n",
        "# Split the data into train and test sets for one-hot encoded dataset:\n",
        "X_train_OH, X_test_OH, y_train_OH, y_test_OH = train_test_split(encoded_X, y, test_size=0.25, random_state=21)\n"
      ],
      "metadata": {
        "id": "5mlomrdT_2CV"
      },
      "execution_count": null,
      "outputs": []
    },
    {
      "cell_type": "code",
      "source": [
        "#MODELING AND TESTING:\n",
        "#Numeric Encoded Model w/ SKLEARN:\n",
        "classifier = RandomForestClassifier(n_estimators = 100, criterion = 'entropy', random_state = 42)\n",
        "classifier.fit(X_train, y_train)\n",
        "y_pred = classifier.predict(X_test) #Predicting the Test set results\n",
        "print(accuracy_score(y_test, y_pred)) #accuracy at 0.5778378710589392\n",
        "print(confusion_matrix(y_test, y_pred))\n",
        "print(classification_report(y_test,y_pred, target_names=definition_list_MCI))\n"
      ],
      "metadata": {
        "id": "ZeUyWNL1_22N",
        "colab": {
          "base_uri": "https://localhost:8080/"
        },
        "outputId": "23544152-590b-4776-e690-fcf36f438f7a"
      },
      "execution_count": null,
      "outputs": [
        {
          "output_type": "stream",
          "name": "stdout",
          "text": [
            "0.5778378710589392\n",
            "[[15777  1140   378    65   346]\n",
            " [ 5007  1445    95    49   203]\n",
            " [ 2292   212  1020    10    79]\n",
            " [  841   120    12    21    36]\n",
            " [ 2410   346    70    27   541]]\n",
            "                 precision    recall  f1-score   support\n",
            "\n",
            "        Assault       0.60      0.89      0.72     17706\n",
            "Break and Enter       0.44      0.21      0.29      6799\n",
            "        Robbery       0.65      0.28      0.39      3613\n",
            "     Theft Over       0.12      0.02      0.03      1030\n",
            "     Auto Theft       0.45      0.16      0.24      3394\n",
            "\n",
            "       accuracy                           0.58     32542\n",
            "      macro avg       0.45      0.31      0.33     32542\n",
            "   weighted avg       0.54      0.58      0.52     32542\n",
            "\n"
          ]
        }
      ]
    },
    {
      "cell_type": "code",
      "source": [
        "#One Hot Encoded Model w/ SKLEARN:\n",
        "classifier = RandomForestClassifier(n_estimators = 100, criterion = 'entropy', random_state = 42)\n",
        "classifier.fit(X_train_OH, y_train_OH)\n",
        "y_pred_OH = classifier.predict(X_test_OH) #Predicting the Test set results\n",
        "print(accuracy_score(y_test_OH, y_pred_OH)) #modest improvement to 0.5914203183578145\n",
        "print(confusion_matrix(y_test_OH, y_pred_OH))\n",
        "print(classification_report(y_test_OH,y_pred_OH, target_names=definition_list_MCI)) #modest improvement"
      ],
      "metadata": {
        "id": "BlVc1bk9_6P1",
        "colab": {
          "base_uri": "https://localhost:8080/"
        },
        "outputId": "83411701-2cc3-44a9-caad-510790b9760c"
      },
      "execution_count": null,
      "outputs": [
        {
          "output_type": "stream",
          "name": "stdout",
          "text": [
            "0.5914203183578145\n",
            "[[16174   931   300    38   263]\n",
            " [ 5040  1515    64    29   151]\n",
            " [ 2378   168   997     3    67]\n",
            " [  854   118     8    15    35]\n",
            " [ 2500   315    27     7   545]]\n",
            "                 precision    recall  f1-score   support\n",
            "\n",
            "        Assault       0.60      0.91      0.72     17706\n",
            "Break and Enter       0.50      0.22      0.31      6799\n",
            "        Robbery       0.71      0.28      0.40      3613\n",
            "     Theft Over       0.16      0.01      0.03      1030\n",
            "     Auto Theft       0.51      0.16      0.24      3394\n",
            "\n",
            "       accuracy                           0.59     32542\n",
            "      macro avg       0.50      0.32      0.34     32542\n",
            "   weighted avg       0.57      0.59      0.53     32542\n",
            "\n"
          ]
        }
      ]
    },
    {
      "cell_type": "code",
      "source": [
        "#Balanced Class Weight:\n",
        "classifier = RandomForestClassifier(n_estimators = 100, criterion = 'entropy', random_state = 42, class_weight='balanced')\n",
        "classifier.fit(X_train, y_train)\n",
        "y_pred = classifier.predict(X_test)\n",
        "print(accuracy_score(y_test, y_pred)) #accuracy at 0.5750722143691229\n",
        "print(confusion_matrix(y_test, y_pred))\n",
        "print(classification_report(y_test,y_pred, target_names=definition_list_MCI))\n"
      ],
      "metadata": {
        "id": "fWLcno7U_-7F",
        "colab": {
          "base_uri": "https://localhost:8080/"
        },
        "outputId": "826dc384-2311-4b6a-a156-04c2af921377"
      },
      "execution_count": null,
      "outputs": [
        {
          "output_type": "stream",
          "name": "stdout",
          "text": [
            "0.5750722143691229\n",
            "[[15752  1081   433    84   356]\n",
            " [ 5133  1323    98    47   198]\n",
            " [ 2230   210  1071    10    92]\n",
            " [  837   124    17    20    32]\n",
            " [ 2442   311    65    28   548]]\n",
            "                 precision    recall  f1-score   support\n",
            "\n",
            "        Assault       0.60      0.89      0.71     17706\n",
            "Break and Enter       0.43      0.19      0.27      6799\n",
            "        Robbery       0.64      0.30      0.40      3613\n",
            "     Theft Over       0.11      0.02      0.03      1030\n",
            "     Auto Theft       0.45      0.16      0.24      3394\n",
            "\n",
            "       accuracy                           0.58     32542\n",
            "      macro avg       0.44      0.31      0.33     32542\n",
            "   weighted avg       0.54      0.58      0.52     32542\n",
            "\n"
          ]
        }
      ]
    },
    {
      "cell_type": "code",
      "source": [
        "# Suppress UndefinedMetricWarning to catch it manually\n",
        "with warnings.catch_warnings():\n",
        "    warnings.filterwarnings(\"ignore\", category=UndefinedMetricWarning)"
      ],
      "metadata": {
        "id": "LFQSDG-vACku"
      },
      "execution_count": null,
      "outputs": []
    },
    {
      "cell_type": "code",
      "source": [
        "# gradientboost performs poorly relative to randomforest\n",
        "grad_class = GradientBoostingClassifier(learning_rate=0.1, n_estimators=10, random_state=42)\n",
        "grad_class.fit(X_train_OH, y_train_OH)\n",
        "y_pred_OH = grad_class.predict(X_test_OH)  # Predicting the Test set results\n",
        "print(accuracy_score(y_test_OH, y_pred_OH))  # modest improvement to 0.5441\n",
        "print(confusion_matrix(y_test_OH, y_pred_OH))\n",
        "\n",
        "with warnings.catch_warnings():\n",
        "    warnings.filterwarnings(\"ignore\", category=UndefinedMetricWarning)\n",
        "    try:\n",
        "        print(classification_report(y_test_OH, y_pred_OH, target_names=definition_list_MCI, zero_division='warn'))\n",
        "    except UndefinedMetricWarning as e:\n",
        "        print(f\"Classification Report Warning: {e}\")"
      ],
      "metadata": {
        "id": "29vuRc7wAHKV",
        "colab": {
          "base_uri": "https://localhost:8080/"
        },
        "outputId": "05ebe5b9-da02-4c48-f15b-41f7aa66b24d"
      },
      "execution_count": null,
      "outputs": [
        {
          "output_type": "stream",
          "name": "stdout",
          "text": [
            "0.5441583184807326\n",
            "[[17704     0     0     0     2]\n",
            " [ 6799     0     0     0     0]\n",
            " [ 3613     0     0     0     0]\n",
            " [ 1030     0     0     0     0]\n",
            " [ 3390     0     0     0     4]]\n",
            "                 precision    recall  f1-score   support\n",
            "\n",
            "        Assault       0.54      1.00      0.70     17706\n",
            "Break and Enter       0.00      0.00      0.00      6799\n",
            "        Robbery       0.00      0.00      0.00      3613\n",
            "     Theft Over       0.00      0.00      0.00      1030\n",
            "     Auto Theft       0.67      0.00      0.00      3394\n",
            "\n",
            "       accuracy                           0.54     32542\n",
            "      macro avg       0.24      0.20      0.14     32542\n",
            "   weighted avg       0.37      0.54      0.38     32542\n",
            "\n"
          ]
        }
      ]
    },
    {
      "cell_type": "code",
      "source": [
        "# Get the year and crime count\n",
        "year_crime = df2.groupby(\"occurrenceyear\")['MCI'].count()\n",
        "\n",
        "#Plotting the pattern of crime for each year\n",
        "df2.groupby(['occurrenceyear', 'MCI']).size().unstack().plot(kind='bar', stacked=True, figsize=(20,10))\n",
        "plt.xlabel('Year')\n",
        "plt.ylabel('Number of Crimes')\n",
        "plt.title('Pattern of Crime by Year')\n",
        "plt.legend(['Assault', 'Auto Theft', 'Break and Enter', 'Robbery', 'Theft Over'])\n",
        "\n",
        "plt.show()"
      ],
      "metadata": {
        "id": "Cgf4EwuYAINn",
        "colab": {
          "base_uri": "https://localhost:8080/",
          "height": 676
        },
        "outputId": "29b830f4-f5b5-42fb-a388-ad3aa0dbe6bc"
      },
      "execution_count": null,
      "outputs": [
        {
          "output_type": "display_data",
          "data": {
            "text/plain": [
              "<Figure size 2000x1000 with 1 Axes>"
            ],
            "image/png": "[encoded data removed]"
          },
          "metadata": {}
        }
      ]
    }
  ]
}